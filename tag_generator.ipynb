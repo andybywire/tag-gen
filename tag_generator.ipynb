{
 "cells": [
  {
   "cell_type": "markdown",
   "metadata": {},
   "source": [
    "# Tag Generator\n",
    "A LangGraph LLM agent for generating taxonomy tag recommendations from a set of articles in a Sanity.io Content Lake instance."
   ]
  },
  {
   "cell_type": "code",
   "execution_count": null,
   "metadata": {},
   "outputs": [],
   "source": [
    "# %pip install requests\n",
    "# %pip install python-dotenv\n",
    "# %pip install pandas\n",
    "# %pip install langchain\n",
    "# %pip install langchain_core\n",
    "# %pip install langchain_ollama\n",
    "# %pip install langchain_openai\n",
    "# %pip install plotly"
   ]
  },
  {
   "cell_type": "markdown",
   "metadata": {
    "vscode": {
     "languageId": "plaintext"
    }
   },
   "source": [
    "## 1. Gather Article URLS\n",
    "GROQ query to gather list of articles to assess; return their URLs"
   ]
  },
  {
   "cell_type": "code",
   "execution_count": 1,
   "metadata": {},
   "outputs": [],
   "source": [
    "import os\n",
    "import requests\n",
    "from dotenv import load_dotenv\n",
    "\n",
    "load_dotenv()\n",
    "project_id = os.getenv(\"SANITY_PROJECT_ID\")\n",
    "dataset = \"production\"\n",
    "base_url = \"https://www.andyfitzgeraldconsulting.com/insights/\"\n",
    "\n",
    "response = requests.post(\n",
    "    f\"https://{project_id}.api.sanity.io/v2022-03-07/data/query/{dataset}?\",\n",
    "    json={\n",
    "        \"query\": f\"\"\"\n",
    "            *[_type in $types]{{\n",
    "            title,\n",
    "            \"url\": \"{base_url}\" + slug.current,\n",
    "            \"type\": insightType->prefLabel\n",
    "            }}\n",
    "        \"\"\",\n",
    "        \"params\": {\"types\": [\"article\", \"caseStudy\"]},\n",
    "    },\n",
    ")\n",
    "\n",
    "if response.status_code == 200:\n",
    "    doc_list = response.json()\n",
    "else:\n",
    "    print(f\"Error: {response.status_code}\")\n",
    "    print(response.text)"
   ]
  },
  {
   "cell_type": "markdown",
   "metadata": {},
   "source": [
    "## 2. Fetch & Tidy Articles\n",
    "- Extract the content in the `<article>` tag. Remove header image and existing topic tags.\n",
    "- Write content and metadata to a DataFrame \n",
    "- Write content word count"
   ]
  },
  {
   "cell_type": "code",
   "execution_count": 2,
   "metadata": {},
   "outputs": [],
   "source": [
    "from bs4 import BeautifulSoup\n",
    "import html2text\n",
    "import pandas as pd\n",
    "\n",
    "def fetch_page_content(url):\n",
    "    # Fetch the page content\n",
    "    response = requests.get(url)\n",
    "    if response.status_code == 200:\n",
    "        response.encoding = 'utf-8'  # Set the encoding explicitly to UTF-8 to avoid HTML entity issues\n",
    "        html_content = response.text\n",
    "    else:    \n",
    "        print(f\"Failed to fetch page. Status code: {response.status_code}\")\n",
    "\n",
    "    # Parse the HTML content with BeautifulSoup\n",
    "    if html_content:\n",
    "        soup = BeautifulSoup(html_content, \"html.parser\")\n",
    "        # Extract the <article> element\n",
    "        article = soup.find(\"article\")\n",
    "        if article:\n",
    "            # Remove existing classification and non-relevant tags\n",
    "            for tag in article.find_all([\"h2\", \"h3\", \"figure\", \"time\"]):\n",
    "                # Remove H2 and H3 topic tags and associated lists\n",
    "                if \"Topics\" in tag.get_text(strip=True):\n",
    "                    next_sibling = tag.find_next_sibling()\n",
    "                    if next_sibling and next_sibling.name == \"ul\":\n",
    "                        next_sibling.decompose()\n",
    "                    tag.decompose()\n",
    "                # Remove banner images\n",
    "                elif tag.name == \"figure\" and \"banner\" in tag.get(\"class\", []):\n",
    "                    tag.decompose()\n",
    "                # Remove publication timestamp\n",
    "                elif tag.name == \"time\":\n",
    "                    tag.decompose()\n",
    "                \n",
    "            # Convert to markdown for easier LLM processing\n",
    "            converter = html2text.HTML2Text()\n",
    "            converter.ignore_links = True\n",
    "            markdown_content = converter.handle(str(article))\n",
    "            return markdown_content\n",
    "    else:\n",
    "        print(\"No content to parse\")\n",
    "\n",
    "# Fetch the content for each document and write to a dataframe, along with the metadata\n",
    "df_articles = pd.DataFrame(doc_list[\"result\"])   \n",
    "df_articles[\"content\"] = df_articles[\"url\"].apply(fetch_page_content)\n",
    "df_articles[\"word_count\"] = df_articles[\"content\"].apply(lambda x: len(x.split()))      \n"
   ]
  },
  {
   "cell_type": "markdown",
   "metadata": {},
   "source": [
    "## 3. Topic Tag Prompt & Chain\n",
    "- provide 10 - 20 tags, depending on the length of the resource, taking into account site purpose and audience profiles\n",
    "- for each, return:\n",
    "    - a tag label\n",
    "    - a tag definition (1-2 sentences)\n",
    "    - a sentence explanation of why it was chosen (1-3 sentences)\n",
    "    - a relevance score between 0 and 1\n"
   ]
  },
  {
   "cell_type": "code",
   "execution_count": 7,
   "metadata": {},
   "outputs": [],
   "source": [
    "from langchain_openai import ChatOpenAI\n",
    "\n",
    "from langchain_core.prompts import ChatPromptTemplate\n",
    "from pydantic import BaseModel, Field\n",
    "\n",
    "# Enable tracing with LangSmith\n",
    "os.environ[\"LANGCHAIN_TRACING_V2\"] = \"true\"\n",
    "os.environ[\"LANGCHAIN_PROJECT\"] = \"tag-gen\"\n",
    "\n",
    "# Set the USER_AGENT environment variable\n",
    "os.environ[\"USER_AGENT\"] = \"langchain-agent\"\n",
    "\n",
    "\n",
    "# Define the output schema for the tag generation model\n",
    "class TagOutput(BaseModel):\n",
    "    \"\"\"Return a list of tag recommendations.\"\"\"\n",
    "\n",
    "    class TagRecommendation(BaseModel):\n",
    "        \"\"\"Return data about each recommended tag.\"\"\"\n",
    "\n",
    "        tag: str = Field(description=\"The recommended tag for the document.\")\n",
    "        definition: str = Field(\n",
    "            description=\"A definition of the tag in the context of the website purpose and audience.\"\n",
    "        )\n",
    "        explanation: str = Field(\n",
    "            description=\"An explanation of why the tag is relevant to the document.\"\n",
    "        )\n",
    "        relevance: float = Field(\n",
    "            description=\"The relevance score of the tag to the document.\"\n",
    "        )\n",
    "\n",
    "    tags: list[TagRecommendation] = Field(\n",
    "        description=\"A list of recommended tags for the document, each containing the tag, explanation, and relevance score.\"\n",
    "    )\n",
    "\n",
    "\n",
    "# OPEN_API_KEY environment variable is set in .env\n",
    "model = ChatOpenAI(model=\"gpt-4o-mini\", temperature=0)\n",
    "\n",
    "# Prompt components\n",
    "purpose = \"The site is for a single person information architecture and content strategy consultancy that offers a multi-disciplinary, collaborative, and hands-on approach to information architecture and content strategy, design, and engineering.\"\n",
    "\n",
    "audience = \"\"\"\n",
    "    1. The Mission-Driven Leader:\n",
    "        - Profile: Heads a non-profit or social enterprise focused on making a positive social impact. Values clear, effective communication and understands the need for a strong digital presence.\n",
    "        - Needs: Looking for expert guidance in structuring digital content to maximize impact, engage stakeholders, and communicate their mission.\n",
    "        - Behavior: Seeks out proven professionals with a track record in supporting similar organizations.\n",
    "\n",
    "    1. The Tech-Savvy Innovator:    \n",
    "        - Profile: Works in a technology-driven environment, possibly in a startup or an innovative corporate department. Interested in the latest trends like LLMs and KGs.\n",
    "        - Needs: Wants to integrate advanced technology into content creation and management to stay ahead in the market.\n",
    "        - Behavior: Attracted to cutting-edge solutions and thought leadership in the field of information architecture and content design.\n",
    "        \n",
    "    3. The Established Professional:\n",
    "        - Profile: A seasoned professional in a larger, established organization, possibly overseeing a content or digital marketing team.\n",
    "        - Needs: Looking for high-value strategic solutions to refine and elevate their organization's content strategy and structure.\n",
    "        - Behavior: Values expertise, reliability, and a demonstrable track record of successful projects.\n",
    "\"\"\"\n",
    "\n",
    "prompt = ChatPromptTemplate(\n",
    "    [\n",
    "        (\n",
    "            \"system\",\n",
    "            \"\"\"\n",
    "                You are a topic tagging assistant designed to suggest tags for the provided document. Suggested tags will take into consideration the main topics and themes of the document, as well as the purpose of the site, and the needs of the target audience.\n",
    "\n",
    "                The purpose of the site is as follows: \n",
    "\n",
    "                {purpose}\n",
    "\n",
    "                The target audience is as follows: \n",
    "\n",
    "                {audience}\n",
    "\n",
    "                Here is the document to be tagged: \n",
    "\n",
    "                {content}\n",
    "\n",
    "                Please provide a list of {tag_count} topical tags that describe the document, in the context of the site's purpose and target audience. When creating tags, do not use parenthetical qualifiers or acronyms. If the plural version of the term and the singular version are equally valid, use the plural form. All terms should be in lower case, unless they are proper nouns.                \n",
    "                \n",
    "                Along with each tag, please also provide a one to two sentence definition of the tag in the context of the site purpose and audience, and a one to three sentence explanation of why the tag is relevant to the document. Finally, provide a relevance score for the tag between 0.0 and 1.0, with tags more relevant to the document scoring higher.\n",
    "            \"\"\",\n",
    "        )\n",
    "    ]\n",
    ")\n",
    "\n",
    "structured_model = model.with_structured_output(TagOutput)\n",
    "\n",
    "chain = prompt | structured_model"
   ]
  },
  {
   "cell_type": "markdown",
   "metadata": {},
   "source": [
    "## 4. Process Articles\n",
    "Write results to a \"tags\" DataFrame"
   ]
  },
  {
   "cell_type": "code",
   "execution_count": null,
   "metadata": {},
   "outputs": [],
   "source": [
    "import pandas as pd\n",
    "\n",
    "tags_df = pd.DataFrame()\n",
    "\n",
    "for index, row in df_articles.iloc[0:3].iterrows():\n",
    "    content, title, url, type, word_count = row[[\"content\", \"title\", \"url\", \"type\", \"word_count\"]]\n",
    "\n",
    "    # adjust the tag count requested based on the word count of the document\n",
    "    count = min(max(10, int(word_count / 400)), 20)\n",
    "    \n",
    "    response = chain.invoke(\n",
    "        {\"content\": content, \"audience\": audience, \"purpose\": purpose, \"tag_count\": count}\n",
    "    )\n",
    "\n",
    "    response_dict = response.model_dump()\n",
    "\n",
    "    # write each row of tags to the `tags_df` dataframe, and include for each row the document title, URL, and type\n",
    "    tags_df = pd.concat(\n",
    "        [tags_df, pd.DataFrame(response_dict[\"tags\"]).assign(title=title, url=url, type=type)],\n",
    "        ignore_index=True,\n",
    "    )\n"
   ]
  },
  {
   "cell_type": "markdown",
   "metadata": {},
   "source": [
    "## 5. Process Tag List\n",
    "- remove tags that only appear once or have a relevance score below 0.6\n",
    "- remove tags that appear for every article (TO DO — once there are more articles)\n",
    "- write remaining unique tags to a new DataFrame\n",
    "    - concatenate the multiple definitions\n",
    "    - average the relevance scores\n",
    "    - count the number of content types represented"
   ]
  },
  {
   "cell_type": "code",
   "execution_count": 1,
   "metadata": {},
   "outputs": [],
   "source": [
    "# # write tags_df to a CSV file for later reference in development (to limit remote calls to the LLM)\n",
    "import pandas as pd\n",
    "# tags_df.to_csv(\"unprocessed_tags.csv\", index=False)\n",
    "# # read the CSV file back in\n",
    "tags_df = pd.read_csv(\"unprocessed_tags.csv\")"
   ]
  },
  {
   "cell_type": "code",
   "execution_count": 2,
   "metadata": {},
   "outputs": [],
   "source": [
    "# create a new DataFrame and remove any rows where the tag only appears once and the relevance score is less than 0.6\n",
    "filtered_tags_df = tags_df.groupby(\"tag\").filter(lambda x: len(x) > 1 or x[\"relevance\"].max() >= 0.6)\n",
    "\n",
    "# write remaining unique tags to a new DataFrame, synthesize the multiple explanations, average the relevance scores, and count the number of Types represented by each tag\n",
    "processed_tags_df = (\n",
    "    filtered_tags_df.groupby(\"tag\")\n",
    "    .agg(\n",
    "        tag_count=(\"title\", \"count\"),\n",
    "        relevance=(\"relevance\", \"mean\"),\n",
    "        std_dev=(\"relevance\", \"std\"),\n",
    "        type_count=(\"type\", \"nunique\"),\n",
    "        definition=(\"definition\", lambda x: \" \".join(x)),\n",
    "\n",
    "    )\n",
    "    .reset_index()\n",
    ")\n"
   ]
  },
  {
   "cell_type": "markdown",
   "metadata": {},
   "source": [
    "## 6. Synthesize Definitions"
   ]
  },
  {
   "cell_type": "code",
   "execution_count": 3,
   "metadata": {},
   "outputs": [],
   "source": [
    "# Synthesize grouped explanations using Mistral on Ollama\n",
    "from langchain_ollama import ChatOllama\n",
    "\n",
    "ollama = ChatOllama(model=\"mistral\", temperature=0)\n",
    "\n",
    "# Define a function to synthesize explanations\n",
    "def synthesize_definitions(tag, definitions):\n",
    "    prompt = f\"\"\"\n",
    "    You are a content strategist and copywriter. The following tags and definitions are topic tag definitions for a website that provides information architecture and content strategy services. The definitions are not a single definition, but rather several definitions for the same tag that have been joined together. \n",
    "    \n",
    "    You are tasked with synthesizing these definitions into a single, concise definition of between three and five sentences that is easy to understand and captures the essence of the topic tag:\n",
    "\n",
    "    Here's the tag: {tag}\n",
    "\n",
    "    Here are the definitions: {definitions}\n",
    "\n",
    "    Please provide your synthesized definition below. Your definition should be between three and five sentences long. \n",
    "    \"\"\"\n",
    "    response = ollama.invoke(prompt)\n",
    "    return response.content\n",
    "\n",
    "# Apply the function to the definitions column\n",
    "processed_tags_df[\"synthesized_definition\"] = processed_tags_df.apply(\n",
    "    lambda row: synthesize_definitions(row[\"tag\"],row[\"definition\"]) if row[\"tag_count\"] > 1 else row[\"definition\"],\n",
    "    axis=1\n",
    ")\n",
    "\n",
    "# write the processed tags to a new CSV file\n",
    "# processed_tags_df.to_csv(\"processed_tags.csv\", index=False)\n"
   ]
  },
  {
   "cell_type": "code",
   "execution_count": 4,
   "metadata": {},
   "outputs": [],
   "source": [
    "# # write processes_tags_df to a CSV file for later reference in development (to limit remote calls to the LLM)\n",
    "import pandas as pd\n",
    "processed_tags_df.to_csv(\"processed_tags.csv\", index=False)\n",
    "# # read the CSV file back in\n",
    "# tags_df = pd.read_csv(\"unprocessed_tags.csv\")"
   ]
  },
  {
   "cell_type": "markdown",
   "metadata": {},
   "source": [
    "## 7. Visualize Results"
   ]
  },
  {
   "cell_type": "code",
   "execution_count": 5,
   "metadata": {},
   "outputs": [
    {
     "data": {
      "application/vnd.plotly.v1+json": {
       "config": {
        "plotlyServerURL": "https://plot.ly"
       },
       "data": [
        {
         "customdata": [
          [
           "Best Practices"
          ],
          [
           "Cognitive Science"
          ],
          [
           "Collaboration"
          ],
          [
           "Content Audit"
          ],
          [
           "Content Auditing"
          ],
          [
           "Content Design"
          ],
          [
           "Content Governance"
          ],
          [
           "Content Management"
          ],
          [
           "Content Management System (CMS)"
          ],
          [
           "Content Management Systems (CMS)"
          ],
          [
           "Content Modeling"
          ],
          [
           "Content Strategy"
          ],
          [
           "Data Management"
          ],
          [
           "Design Thinking"
          ],
          [
           "Digital Communication"
          ],
          [
           "Digital Content Management"
          ],
          [
           "Digital Design"
          ],
          [
           "Digital Experience"
          ],
          [
           "Digital Presence"
          ],
          [
           "Digital Strategy"
          ],
          [
           "Digital Transformation"
          ],
          [
           "Higher Education"
          ],
          [
           "Human-Centered Design"
          ],
          [
           "Information Architecture"
          ],
          [
           "Knowledge Graphs"
          ],
          [
           "Natural Language Processing (NLP)"
          ],
          [
           "Navigation Design"
          ],
          [
           "Non-Profit Sector"
          ],
          [
           "Project Management"
          ],
          [
           "Prototyping"
          ],
          [
           "Responsive Design"
          ],
          [
           "Semantic HTML"
          ],
          [
           "Semantic Web"
          ],
          [
           "Social Impact"
          ],
          [
           "Stakeholder Engagement"
          ],
          [
           "Structured Content"
          ],
          [
           "Structured Content Design"
          ],
          [
           "Taxonomy"
          ],
          [
           "Taxonomy Development"
          ],
          [
           "Technology Integration"
          ],
          [
           "Usability Testing"
          ],
          [
           "User Experience (UX)"
          ],
          [
           "User Experience (UX) Design"
          ],
          [
           "User Research"
          ],
          [
           "User-Centered Design"
          ]
         ],
         "hovertemplate": "Relevance Score=%{x}<br>Number of Resources=%{y}<br>Number of Types=%{marker.size}<br>tag=%{customdata[0]}<br>StdDev=%{marker.color}<extra></extra>",
         "legendgroup": "",
         "marker": {
          "color": [
           0.14142135623730948,
           0.1767766952966369,
           0.10000000000000002,
           0.1414213562373096,
           0.07071067811865478,
           0.18027756377319948,
           0,
           0.21213203435596428,
           0.11547005383792525,
           0.07071067811865475,
           0.1767766952966369,
           0.059716230840588476,
           0,
           0.07071067811865478,
           0.15000000000000002,
           0.07071067811865482,
           0.10000000000000005,
           0.07071067811865482,
           0.08164965809277266,
           0.21213203435596423,
           0.12464234547582247,
           0.1767766952966369,
           0.057735026918962595,
           0.07767086669249632,
           0.18898223650461363,
           0.21213203435596428,
           0.12583057392117913,
           0.14142135623730953,
           0.09999999999999998,
           0.1154700538379252,
           0.07637626158259736,
           0,
           0.1154700538379252,
           0.21213203435596417,
           0.08972998711821648,
           0.08366600265340753,
           0.15000000000000002,
           0.28867513459481287,
           0.07071067811865482,
           0.10606601717798213,
           0.05773502691896262,
           0.10186016920831348,
           0.07071067811865478,
           0.28284271247461906,
           0.1855172947912584
          ],
          "coloraxis": "coloraxis",
          "size": [
           1,
           1,
           2,
           2,
           2,
           2,
           2,
           1,
           2,
           2,
           2,
           4,
           2,
           1,
           2,
           2,
           2,
           1,
           3,
           2,
           4,
           2,
           2,
           4,
           3,
           1,
           2,
           1,
           2,
           2,
           1,
           1,
           3,
           1,
           4,
           3,
           3,
           1,
           1,
           1,
           1,
           4,
           1,
           1,
           3
          ],
          "sizemode": "area",
          "sizeref": 0.01,
          "symbol": "circle"
         },
         "mode": "markers",
         "name": "",
         "orientation": "v",
         "showlegend": false,
         "type": "scatter",
         "x": [
          0.6,
          0.875,
          0.7000000000000001,
          0.7,
          0.6499999999999999,
          0.5499999999999999,
          0.6,
          0.65,
          0.7333333333333334,
          0.6,
          0.675,
          0.8578125,
          0.7,
          0.6499999999999999,
          0.75,
          0.75,
          0.7999999999999999,
          0.75,
          0.7000000000000001,
          0.6,
          0.5875,
          0.625,
          0.6666666666666666,
          0.924074074074074,
          0.8285714285714285,
          0.85,
          0.7166666666666667,
          0.7,
          0.5,
          0.7333333333333334,
          0.7666666666666666,
          0.8,
          0.7333333333333334,
          0.55,
          0.6852941176470588,
          0.9500000000000001,
          0.925,
          0.8333333333333334,
          0.75,
          0.525,
          0.7666666666666666,
          0.758695652173913,
          0.95,
          0.7,
          0.7583333333333333
         ],
         "xaxis": "x",
         "y": [
          2,
          2,
          7,
          2,
          2,
          3,
          2,
          2,
          3,
          5,
          2,
          32,
          2,
          2,
          3,
          2,
          3,
          2,
          7,
          2,
          8,
          2,
          3,
          27,
          7,
          2,
          3,
          2,
          3,
          3,
          3,
          2,
          3,
          2,
          17,
          6,
          4,
          3,
          2,
          2,
          3,
          23,
          2,
          2,
          6
         ],
         "yaxis": "y"
        }
       ],
       "layout": {
        "coloraxis": {
         "colorbar": {
          "title": {
           "text": "StdDev"
          }
         },
         "colorscale": [
          [
           0,
           "#440154"
          ],
          [
           0.1111111111111111,
           "#482878"
          ],
          [
           0.2222222222222222,
           "#3e4989"
          ],
          [
           0.3333333333333333,
           "#31688e"
          ],
          [
           0.4444444444444444,
           "#26828e"
          ],
          [
           0.5555555555555556,
           "#1f9e89"
          ],
          [
           0.6666666666666666,
           "#35b779"
          ],
          [
           0.7777777777777778,
           "#6ece58"
          ],
          [
           0.8888888888888888,
           "#b5de2b"
          ],
          [
           1,
           "#fde725"
          ]
         ]
        },
        "height": 800,
        "legend": {
         "itemsizing": "constant",
         "tracegroupgap": 0
        },
        "template": {
         "data": {
          "bar": [
           {
            "error_x": {
             "color": "#2a3f5f"
            },
            "error_y": {
             "color": "#2a3f5f"
            },
            "marker": {
             "line": {
              "color": "#E5ECF6",
              "width": 0.5
             },
             "pattern": {
              "fillmode": "overlay",
              "size": 10,
              "solidity": 0.2
             }
            },
            "type": "bar"
           }
          ],
          "barpolar": [
           {
            "marker": {
             "line": {
              "color": "#E5ECF6",
              "width": 0.5
             },
             "pattern": {
              "fillmode": "overlay",
              "size": 10,
              "solidity": 0.2
             }
            },
            "type": "barpolar"
           }
          ],
          "carpet": [
           {
            "aaxis": {
             "endlinecolor": "#2a3f5f",
             "gridcolor": "white",
             "linecolor": "white",
             "minorgridcolor": "white",
             "startlinecolor": "#2a3f5f"
            },
            "baxis": {
             "endlinecolor": "#2a3f5f",
             "gridcolor": "white",
             "linecolor": "white",
             "minorgridcolor": "white",
             "startlinecolor": "#2a3f5f"
            },
            "type": "carpet"
           }
          ],
          "choropleth": [
           {
            "colorbar": {
             "outlinewidth": 0,
             "ticks": ""
            },
            "type": "choropleth"
           }
          ],
          "contour": [
           {
            "colorbar": {
             "outlinewidth": 0,
             "ticks": ""
            },
            "colorscale": [
             [
              0,
              "#0d0887"
             ],
             [
              0.1111111111111111,
              "#46039f"
             ],
             [
              0.2222222222222222,
              "#7201a8"
             ],
             [
              0.3333333333333333,
              "#9c179e"
             ],
             [
              0.4444444444444444,
              "#bd3786"
             ],
             [
              0.5555555555555556,
              "#d8576b"
             ],
             [
              0.6666666666666666,
              "#ed7953"
             ],
             [
              0.7777777777777778,
              "#fb9f3a"
             ],
             [
              0.8888888888888888,
              "#fdca26"
             ],
             [
              1,
              "#f0f921"
             ]
            ],
            "type": "contour"
           }
          ],
          "contourcarpet": [
           {
            "colorbar": {
             "outlinewidth": 0,
             "ticks": ""
            },
            "type": "contourcarpet"
           }
          ],
          "heatmap": [
           {
            "colorbar": {
             "outlinewidth": 0,
             "ticks": ""
            },
            "colorscale": [
             [
              0,
              "#0d0887"
             ],
             [
              0.1111111111111111,
              "#46039f"
             ],
             [
              0.2222222222222222,
              "#7201a8"
             ],
             [
              0.3333333333333333,
              "#9c179e"
             ],
             [
              0.4444444444444444,
              "#bd3786"
             ],
             [
              0.5555555555555556,
              "#d8576b"
             ],
             [
              0.6666666666666666,
              "#ed7953"
             ],
             [
              0.7777777777777778,
              "#fb9f3a"
             ],
             [
              0.8888888888888888,
              "#fdca26"
             ],
             [
              1,
              "#f0f921"
             ]
            ],
            "type": "heatmap"
           }
          ],
          "heatmapgl": [
           {
            "colorbar": {
             "outlinewidth": 0,
             "ticks": ""
            },
            "colorscale": [
             [
              0,
              "#0d0887"
             ],
             [
              0.1111111111111111,
              "#46039f"
             ],
             [
              0.2222222222222222,
              "#7201a8"
             ],
             [
              0.3333333333333333,
              "#9c179e"
             ],
             [
              0.4444444444444444,
              "#bd3786"
             ],
             [
              0.5555555555555556,
              "#d8576b"
             ],
             [
              0.6666666666666666,
              "#ed7953"
             ],
             [
              0.7777777777777778,
              "#fb9f3a"
             ],
             [
              0.8888888888888888,
              "#fdca26"
             ],
             [
              1,
              "#f0f921"
             ]
            ],
            "type": "heatmapgl"
           }
          ],
          "histogram": [
           {
            "marker": {
             "pattern": {
              "fillmode": "overlay",
              "size": 10,
              "solidity": 0.2
             }
            },
            "type": "histogram"
           }
          ],
          "histogram2d": [
           {
            "colorbar": {
             "outlinewidth": 0,
             "ticks": ""
            },
            "colorscale": [
             [
              0,
              "#0d0887"
             ],
             [
              0.1111111111111111,
              "#46039f"
             ],
             [
              0.2222222222222222,
              "#7201a8"
             ],
             [
              0.3333333333333333,
              "#9c179e"
             ],
             [
              0.4444444444444444,
              "#bd3786"
             ],
             [
              0.5555555555555556,
              "#d8576b"
             ],
             [
              0.6666666666666666,
              "#ed7953"
             ],
             [
              0.7777777777777778,
              "#fb9f3a"
             ],
             [
              0.8888888888888888,
              "#fdca26"
             ],
             [
              1,
              "#f0f921"
             ]
            ],
            "type": "histogram2d"
           }
          ],
          "histogram2dcontour": [
           {
            "colorbar": {
             "outlinewidth": 0,
             "ticks": ""
            },
            "colorscale": [
             [
              0,
              "#0d0887"
             ],
             [
              0.1111111111111111,
              "#46039f"
             ],
             [
              0.2222222222222222,
              "#7201a8"
             ],
             [
              0.3333333333333333,
              "#9c179e"
             ],
             [
              0.4444444444444444,
              "#bd3786"
             ],
             [
              0.5555555555555556,
              "#d8576b"
             ],
             [
              0.6666666666666666,
              "#ed7953"
             ],
             [
              0.7777777777777778,
              "#fb9f3a"
             ],
             [
              0.8888888888888888,
              "#fdca26"
             ],
             [
              1,
              "#f0f921"
             ]
            ],
            "type": "histogram2dcontour"
           }
          ],
          "mesh3d": [
           {
            "colorbar": {
             "outlinewidth": 0,
             "ticks": ""
            },
            "type": "mesh3d"
           }
          ],
          "parcoords": [
           {
            "line": {
             "colorbar": {
              "outlinewidth": 0,
              "ticks": ""
             }
            },
            "type": "parcoords"
           }
          ],
          "pie": [
           {
            "automargin": true,
            "type": "pie"
           }
          ],
          "scatter": [
           {
            "fillpattern": {
             "fillmode": "overlay",
             "size": 10,
             "solidity": 0.2
            },
            "type": "scatter"
           }
          ],
          "scatter3d": [
           {
            "line": {
             "colorbar": {
              "outlinewidth": 0,
              "ticks": ""
             }
            },
            "marker": {
             "colorbar": {
              "outlinewidth": 0,
              "ticks": ""
             }
            },
            "type": "scatter3d"
           }
          ],
          "scattercarpet": [
           {
            "marker": {
             "colorbar": {
              "outlinewidth": 0,
              "ticks": ""
             }
            },
            "type": "scattercarpet"
           }
          ],
          "scattergeo": [
           {
            "marker": {
             "colorbar": {
              "outlinewidth": 0,
              "ticks": ""
             }
            },
            "type": "scattergeo"
           }
          ],
          "scattergl": [
           {
            "marker": {
             "colorbar": {
              "outlinewidth": 0,
              "ticks": ""
             }
            },
            "type": "scattergl"
           }
          ],
          "scattermapbox": [
           {
            "marker": {
             "colorbar": {
              "outlinewidth": 0,
              "ticks": ""
             }
            },
            "type": "scattermapbox"
           }
          ],
          "scatterpolar": [
           {
            "marker": {
             "colorbar": {
              "outlinewidth": 0,
              "ticks": ""
             }
            },
            "type": "scatterpolar"
           }
          ],
          "scatterpolargl": [
           {
            "marker": {
             "colorbar": {
              "outlinewidth": 0,
              "ticks": ""
             }
            },
            "type": "scatterpolargl"
           }
          ],
          "scatterternary": [
           {
            "marker": {
             "colorbar": {
              "outlinewidth": 0,
              "ticks": ""
             }
            },
            "type": "scatterternary"
           }
          ],
          "surface": [
           {
            "colorbar": {
             "outlinewidth": 0,
             "ticks": ""
            },
            "colorscale": [
             [
              0,
              "#0d0887"
             ],
             [
              0.1111111111111111,
              "#46039f"
             ],
             [
              0.2222222222222222,
              "#7201a8"
             ],
             [
              0.3333333333333333,
              "#9c179e"
             ],
             [
              0.4444444444444444,
              "#bd3786"
             ],
             [
              0.5555555555555556,
              "#d8576b"
             ],
             [
              0.6666666666666666,
              "#ed7953"
             ],
             [
              0.7777777777777778,
              "#fb9f3a"
             ],
             [
              0.8888888888888888,
              "#fdca26"
             ],
             [
              1,
              "#f0f921"
             ]
            ],
            "type": "surface"
           }
          ],
          "table": [
           {
            "cells": {
             "fill": {
              "color": "#EBF0F8"
             },
             "line": {
              "color": "white"
             }
            },
            "header": {
             "fill": {
              "color": "#C8D4E3"
             },
             "line": {
              "color": "white"
             }
            },
            "type": "table"
           }
          ]
         },
         "layout": {
          "annotationdefaults": {
           "arrowcolor": "#2a3f5f",
           "arrowhead": 0,
           "arrowwidth": 1
          },
          "autotypenumbers": "strict",
          "coloraxis": {
           "colorbar": {
            "outlinewidth": 0,
            "ticks": ""
           }
          },
          "colorscale": {
           "diverging": [
            [
             0,
             "#8e0152"
            ],
            [
             0.1,
             "#c51b7d"
            ],
            [
             0.2,
             "#de77ae"
            ],
            [
             0.3,
             "#f1b6da"
            ],
            [
             0.4,
             "#fde0ef"
            ],
            [
             0.5,
             "#f7f7f7"
            ],
            [
             0.6,
             "#e6f5d0"
            ],
            [
             0.7,
             "#b8e186"
            ],
            [
             0.8,
             "#7fbc41"
            ],
            [
             0.9,
             "#4d9221"
            ],
            [
             1,
             "#276419"
            ]
           ],
           "sequential": [
            [
             0,
             "#0d0887"
            ],
            [
             0.1111111111111111,
             "#46039f"
            ],
            [
             0.2222222222222222,
             "#7201a8"
            ],
            [
             0.3333333333333333,
             "#9c179e"
            ],
            [
             0.4444444444444444,
             "#bd3786"
            ],
            [
             0.5555555555555556,
             "#d8576b"
            ],
            [
             0.6666666666666666,
             "#ed7953"
            ],
            [
             0.7777777777777778,
             "#fb9f3a"
            ],
            [
             0.8888888888888888,
             "#fdca26"
            ],
            [
             1,
             "#f0f921"
            ]
           ],
           "sequentialminus": [
            [
             0,
             "#0d0887"
            ],
            [
             0.1111111111111111,
             "#46039f"
            ],
            [
             0.2222222222222222,
             "#7201a8"
            ],
            [
             0.3333333333333333,
             "#9c179e"
            ],
            [
             0.4444444444444444,
             "#bd3786"
            ],
            [
             0.5555555555555556,
             "#d8576b"
            ],
            [
             0.6666666666666666,
             "#ed7953"
            ],
            [
             0.7777777777777778,
             "#fb9f3a"
            ],
            [
             0.8888888888888888,
             "#fdca26"
            ],
            [
             1,
             "#f0f921"
            ]
           ]
          },
          "colorway": [
           "#636efa",
           "#EF553B",
           "#00cc96",
           "#ab63fa",
           "#FFA15A",
           "#19d3f3",
           "#FF6692",
           "#B6E880",
           "#FF97FF",
           "#FECB52"
          ],
          "font": {
           "color": "#2a3f5f"
          },
          "geo": {
           "bgcolor": "white",
           "lakecolor": "white",
           "landcolor": "#E5ECF6",
           "showlakes": true,
           "showland": true,
           "subunitcolor": "white"
          },
          "hoverlabel": {
           "align": "left"
          },
          "hovermode": "closest",
          "mapbox": {
           "style": "light"
          },
          "paper_bgcolor": "white",
          "plot_bgcolor": "#E5ECF6",
          "polar": {
           "angularaxis": {
            "gridcolor": "white",
            "linecolor": "white",
            "ticks": ""
           },
           "bgcolor": "#E5ECF6",
           "radialaxis": {
            "gridcolor": "white",
            "linecolor": "white",
            "ticks": ""
           }
          },
          "scene": {
           "xaxis": {
            "backgroundcolor": "#E5ECF6",
            "gridcolor": "white",
            "gridwidth": 2,
            "linecolor": "white",
            "showbackground": true,
            "ticks": "",
            "zerolinecolor": "white"
           },
           "yaxis": {
            "backgroundcolor": "#E5ECF6",
            "gridcolor": "white",
            "gridwidth": 2,
            "linecolor": "white",
            "showbackground": true,
            "ticks": "",
            "zerolinecolor": "white"
           },
           "zaxis": {
            "backgroundcolor": "#E5ECF6",
            "gridcolor": "white",
            "gridwidth": 2,
            "linecolor": "white",
            "showbackground": true,
            "ticks": "",
            "zerolinecolor": "white"
           }
          },
          "shapedefaults": {
           "line": {
            "color": "#2a3f5f"
           }
          },
          "ternary": {
           "aaxis": {
            "gridcolor": "white",
            "linecolor": "white",
            "ticks": ""
           },
           "baxis": {
            "gridcolor": "white",
            "linecolor": "white",
            "ticks": ""
           },
           "bgcolor": "#E5ECF6",
           "caxis": {
            "gridcolor": "white",
            "linecolor": "white",
            "ticks": ""
           }
          },
          "title": {
           "x": 0.05
          },
          "xaxis": {
           "automargin": true,
           "gridcolor": "white",
           "linecolor": "white",
           "ticks": "",
           "title": {
            "standoff": 15
           },
           "zerolinecolor": "white",
           "zerolinewidth": 2
          },
          "yaxis": {
           "automargin": true,
           "gridcolor": "white",
           "linecolor": "white",
           "ticks": "",
           "title": {
            "standoff": 15
           },
           "zerolinecolor": "white",
           "zerolinewidth": 2
          }
         }
        },
        "title": {
         "text": "Tag Relevance vs. Tag Count"
        },
        "width": 800,
        "xaxis": {
         "anchor": "y",
         "domain": [
          0,
          1
         ],
         "title": {
          "text": "Relevance Score"
         }
        },
        "yaxis": {
         "anchor": "x",
         "domain": [
          0,
          1
         ],
         "title": {
          "text": "Number of Resources"
         }
        }
       }
      }
     },
     "metadata": {},
     "output_type": "display_data"
    }
   ],
   "source": [
    "# create a scatter plot with relevance on the x-axis and tag_count on the y-axis and tag name available on hover\n",
    "\n",
    "import plotly.express as px\n",
    "\n",
    "fig = px.scatter(\n",
    "    processed_tags_df[processed_tags_df[\"tag_count\"] > 1],\n",
    "    hover_data=[\"tag\"],\n",
    "    x=\"relevance\",\n",
    "    y=\"tag_count\",\n",
    "    title=\"Tag Relevance vs. Tag Count\",\n",
    "    width=800,\n",
    "    height=800,\n",
    "    size=\"type_count\",\n",
    "    color=\"std_dev\",\n",
    "    color_continuous_scale=px.colors.sequential.Viridis,\n",
    "    labels={\n",
    "        \"relevance\": \"Relevance Score\",\n",
    "        \"tag_count\": \"Number of Resources\",\n",
    "        \"type_count\": \"Number of Types\",\n",
    "        \"std_dev\": \"StdDev\",\n",
    "    },\n",
    ")\n",
    "\n",
    "fig.show()"
   ]
  },
  {
   "cell_type": "markdown",
   "metadata": {},
   "source": [
    "# Deprecated Utilities"
   ]
  },
  {
   "cell_type": "markdown",
   "metadata": {},
   "source": [
    "## NLP Consolidation"
   ]
  },
  {
   "cell_type": "code",
   "execution_count": null,
   "metadata": {},
   "outputs": [],
   "source": [
    "# Use natural language processing to identify similar tags and definitions\n",
    "import spacy\n",
    "\n",
    "nlp = spacy.load(\"en_core_web_lg\")\n",
    "\n",
    "tokenized_tags = [nlp(tag) for tag in processed_tags_df[\"tag\"].tolist()]\n",
    "\n",
    "tokenized_definitions = [nlp(definition) for definition in processed_tags_df[\"synthesized_definition\"].tolist()]\n",
    "\n",
    "# create a list of dicts with the tag and definition tokens\n",
    "tag_tokens = [\n",
    "    {\"tag\": tag, \"definition\": definition}\n",
    "    for tag, definition in zip(tokenized_tags, tokenized_definitions)\n",
    "]\n",
    "\n",
    "print(\"Similarity by Tag:\")\n",
    "for tag in tag_tokens:\n",
    "    #identify tag explanations that are similar to each other and group them together\n",
    "    for other_tag in tag_tokens:\n",
    "        if tag != other_tag and tag[\"tag\"].similarity(other_tag[\"tag\"]) > 0.98:\n",
    "            print(f\"{tag['tag'].text} is similar to {other_tag['tag'].text}\")\n",
    "\n",
    "print(\"\\nSimilarity by Definition:\")\n",
    "for tag in tag_tokens:\n",
    "    #identify tag explanations that are similar to each other and group them together\n",
    "    for other_tag in tag_tokens:\n",
    "        if tag != other_tag and tag[\"definition\"].similarity(other_tag[\"definition\"]) > 0.98:\n",
    "            print(f\"{tag['tag'].text} is similar to {other_tag['tag'].text}\")\n",
    "\n",
    "\n",
    "# for tag in tokenized_explanations:\n",
    "#     # print(tag.text, tag.has_vector, tag.vector_norm)\n",
    "#     # identify tags that are similar to each other\n",
    "#     for other_tag in tokenized_explanations:\n",
    "#         if tag != other_tag and tag.similarity(other_tag) > 0.95:\n",
    "#             print(f\"{tag.text} is similar to {other_tag.text}\")\n",
    "\n"
   ]
  }
 ],
 "metadata": {
  "kernelspec": {
   "display_name": ".venv",
   "language": "python",
   "name": "python3"
  },
  "language_info": {
   "codemirror_mode": {
    "name": "ipython",
    "version": 3
   },
   "file_extension": ".py",
   "mimetype": "text/x-python",
   "name": "python",
   "nbconvert_exporter": "python",
   "pygments_lexer": "ipython3",
   "version": "3.11.10"
  }
 },
 "nbformat": 4,
 "nbformat_minor": 2
}
